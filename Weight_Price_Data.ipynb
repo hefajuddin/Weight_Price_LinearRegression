{
 "cells": [
  {
   "cell_type": "code",
   "execution_count": 1,
   "id": "4788c9d7-981d-4b4b-81ad-35ea08fc0985",
   "metadata": {},
   "outputs": [],
   "source": [
    "import numpy as np\n",
    "import pandas as pd\n",
    "from matplotlib import pyplot as plt"
   ]
  },
  {
   "cell_type": "code",
   "execution_count": 2,
   "id": "1d286620-06f9-40e4-ba22-f7e239cd2371",
   "metadata": {},
   "outputs": [
    {
     "data": {
      "text/html": [
       "<div>\n",
       "<style scoped>\n",
       "    .dataframe tbody tr th:only-of-type {\n",
       "        vertical-align: middle;\n",
       "    }\n",
       "\n",
       "    .dataframe tbody tr th {\n",
       "        vertical-align: top;\n",
       "    }\n",
       "\n",
       "    .dataframe thead th {\n",
       "        text-align: right;\n",
       "    }\n",
       "</style>\n",
       "<table border=\"1\" class=\"dataframe\">\n",
       "  <thead>\n",
       "    <tr style=\"text-align: right;\">\n",
       "      <th></th>\n",
       "      <th>Weight</th>\n",
       "      <th>Price</th>\n",
       "    </tr>\n",
       "  </thead>\n",
       "  <tbody>\n",
       "    <tr>\n",
       "      <th>0</th>\n",
       "      <td>2</td>\n",
       "      <td>35</td>\n",
       "    </tr>\n",
       "    <tr>\n",
       "      <th>1</th>\n",
       "      <td>4</td>\n",
       "      <td>60</td>\n",
       "    </tr>\n",
       "    <tr>\n",
       "      <th>2</th>\n",
       "      <td>5</td>\n",
       "      <td>20</td>\n",
       "    </tr>\n",
       "    <tr>\n",
       "      <th>3</th>\n",
       "      <td>3</td>\n",
       "      <td>50</td>\n",
       "    </tr>\n",
       "    <tr>\n",
       "      <th>4</th>\n",
       "      <td>6</td>\n",
       "      <td>50</td>\n",
       "    </tr>\n",
       "    <tr>\n",
       "      <th>5</th>\n",
       "      <td>5</td>\n",
       "      <td>55</td>\n",
       "    </tr>\n",
       "    <tr>\n",
       "      <th>6</th>\n",
       "      <td>7</td>\n",
       "      <td>60</td>\n",
       "    </tr>\n",
       "  </tbody>\n",
       "</table>\n",
       "</div>"
      ],
      "text/plain": [
       "   Weight  Price\n",
       "0       2     35\n",
       "1       4     60\n",
       "2       5     20\n",
       "3       3     50\n",
       "4       6     50\n",
       "5       5     55\n",
       "6       7     60"
      ]
     },
     "execution_count": 2,
     "metadata": {},
     "output_type": "execute_result"
    }
   ],
   "source": [
    "df=pd.read_csv('Weight_Price_Data.csv')\n",
    "df"
   ]
  },
  {
   "cell_type": "code",
   "execution_count": 3,
   "id": "24ea4e0e-1523-4427-8270-ab52e82f996b",
   "metadata": {},
   "outputs": [
    {
     "data": {
      "text/plain": [
       "<matplotlib.collections.PathCollection at 0x2779a2bddc0>"
      ]
     },
     "execution_count": 3,
     "metadata": {},
     "output_type": "execute_result"
    },
    {
     "data": {
      "image/png": "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",
      "text/plain": [
       "<Figure size 640x480 with 1 Axes>"
      ]
     },
     "metadata": {},
     "output_type": "display_data"
    }
   ],
   "source": [
    "plt.scatter(df[['Weight']],df[['Price']])"
   ]
  },
  {
   "cell_type": "markdown",
   "id": "2d5a956c-f845-47d9-abc3-0a035c341cfb",
   "metadata": {},
   "source": [
    "## Scatter saying dataset does not follow linear regression, although we will do that assignment purpose"
   ]
  },
  {
   "cell_type": "code",
   "execution_count": 4,
   "id": "af5b164c-ba25-4b6d-bc1c-e8798bc74e77",
   "metadata": {},
   "outputs": [
    {
     "data": {
      "text/html": [
       "<div>\n",
       "<style scoped>\n",
       "    .dataframe tbody tr th:only-of-type {\n",
       "        vertical-align: middle;\n",
       "    }\n",
       "\n",
       "    .dataframe tbody tr th {\n",
       "        vertical-align: top;\n",
       "    }\n",
       "\n",
       "    .dataframe thead th {\n",
       "        text-align: right;\n",
       "    }\n",
       "</style>\n",
       "<table border=\"1\" class=\"dataframe\">\n",
       "  <thead>\n",
       "    <tr style=\"text-align: right;\">\n",
       "      <th></th>\n",
       "      <th>Weight</th>\n",
       "      <th>Price</th>\n",
       "    </tr>\n",
       "  </thead>\n",
       "  <tbody>\n",
       "    <tr>\n",
       "      <th>Weight</th>\n",
       "      <td>1.000000</td>\n",
       "      <td>0.306795</td>\n",
       "    </tr>\n",
       "    <tr>\n",
       "      <th>Price</th>\n",
       "      <td>0.306795</td>\n",
       "      <td>1.000000</td>\n",
       "    </tr>\n",
       "  </tbody>\n",
       "</table>\n",
       "</div>"
      ],
      "text/plain": [
       "          Weight     Price\n",
       "Weight  1.000000  0.306795\n",
       "Price   0.306795  1.000000"
      ]
     },
     "execution_count": 4,
     "metadata": {},
     "output_type": "execute_result"
    }
   ],
   "source": [
    "df.corr()"
   ]
  },
  {
   "cell_type": "markdown",
   "id": "a9e20655-b527-47a1-942c-e5056695ecb6",
   "metadata": {},
   "source": [
    "## Dataset is poorly corelated"
   ]
  },
  {
   "cell_type": "markdown",
   "id": "7987b8fc-1218-44b3-903b-c29144b7fa18",
   "metadata": {},
   "source": [
    "## we implement, y=mx+c\n",
    "## we will findout m\n",
    "## we know, m= sum(x-x.mean())*(y-y.mean())/sum(x-x.mean())^2"
   ]
  },
  {
   "cell_type": "code",
   "execution_count": 5,
   "id": "a605fd72-6820-4922-997d-c4c3972fb0cf",
   "metadata": {},
   "outputs": [
    {
     "data": {
      "text/plain": [
       "0    2\n",
       "1    4\n",
       "2    5\n",
       "3    3\n",
       "4    6\n",
       "5    5\n",
       "6    7\n",
       "Name: Weight, dtype: int64"
      ]
     },
     "execution_count": 5,
     "metadata": {},
     "output_type": "execute_result"
    }
   ],
   "source": [
    "x=df['Weight']\n",
    "x"
   ]
  },
  {
   "cell_type": "code",
   "execution_count": 6,
   "id": "11cb82d6-445a-4bac-b23f-6a7a531b6f95",
   "metadata": {},
   "outputs": [
    {
     "data": {
      "text/plain": [
       "4.571428571428571"
      ]
     },
     "execution_count": 6,
     "metadata": {},
     "output_type": "execute_result"
    }
   ],
   "source": [
    "x_mean=x.mean()\n",
    "x_mean"
   ]
  },
  {
   "cell_type": "code",
   "execution_count": 7,
   "id": "81f6cdec-6c2b-469c-82f1-bf37fac2889f",
   "metadata": {},
   "outputs": [
    {
     "data": {
      "text/plain": [
       "0   -2.571429\n",
       "1   -0.571429\n",
       "2    0.428571\n",
       "3   -1.571429\n",
       "4    1.428571\n",
       "5    0.428571\n",
       "6    2.428571\n",
       "Name: Weight, dtype: float64"
      ]
     },
     "execution_count": 7,
     "metadata": {},
     "output_type": "execute_result"
    }
   ],
   "source": [
    "dev_x=x-x_mean\n",
    "dev_x"
   ]
  },
  {
   "cell_type": "code",
   "execution_count": 8,
   "id": "2ff81097-ff7c-4d4d-8dec-8410f6995b02",
   "metadata": {},
   "outputs": [
    {
     "data": {
      "text/plain": [
       "0    35\n",
       "1    60\n",
       "2    20\n",
       "3    50\n",
       "4    50\n",
       "5    55\n",
       "6    60\n",
       "Name: Price, dtype: int64"
      ]
     },
     "execution_count": 8,
     "metadata": {},
     "output_type": "execute_result"
    }
   ],
   "source": [
    "y=df['Price']\n",
    "y"
   ]
  },
  {
   "cell_type": "code",
   "execution_count": 9,
   "id": "aebedf9a-e76e-4b25-aecb-ba138a93b310",
   "metadata": {},
   "outputs": [
    {
     "data": {
      "text/plain": [
       "47.142857142857146"
      ]
     },
     "execution_count": 9,
     "metadata": {},
     "output_type": "execute_result"
    }
   ],
   "source": [
    "y_mean=y.mean()\n",
    "y_mean"
   ]
  },
  {
   "cell_type": "code",
   "execution_count": 10,
   "id": "35f8a9ff-744d-41c9-9206-d98f2bdf621b",
   "metadata": {},
   "outputs": [
    {
     "data": {
      "text/plain": [
       "0   -12.142857\n",
       "1    12.857143\n",
       "2   -27.142857\n",
       "3     2.857143\n",
       "4     2.857143\n",
       "5     7.857143\n",
       "6    12.857143\n",
       "Name: Price, dtype: float64"
      ]
     },
     "execution_count": 10,
     "metadata": {},
     "output_type": "execute_result"
    }
   ],
   "source": [
    "dev_y=y-y_mean\n",
    "dev_y"
   ]
  },
  {
   "cell_type": "code",
   "execution_count": 11,
   "id": "ea5b2cc9-15af-4128-bda8-b0dcc847edf2",
   "metadata": {},
   "outputs": [
    {
     "data": {
      "text/plain": [
       "0    31.224490\n",
       "1    -7.346939\n",
       "2   -11.632653\n",
       "3    -4.489796\n",
       "4     4.081633\n",
       "5     3.367347\n",
       "6    31.224490\n",
       "dtype: float64"
      ]
     },
     "execution_count": 11,
     "metadata": {},
     "output_type": "execute_result"
    }
   ],
   "source": [
    "multiply_both=dev_x*dev_y\n",
    "multiply_both"
   ]
  },
  {
   "cell_type": "code",
   "execution_count": 12,
   "id": "32087375-46f9-43b2-b92a-97bf9de6fb72",
   "metadata": {},
   "outputs": [
    {
     "data": {
      "text/plain": [
       "46.42857142857143"
      ]
     },
     "execution_count": 12,
     "metadata": {},
     "output_type": "execute_result"
    }
   ],
   "source": [
    "numeratorOfM=sum(multiply_both) #now we get numerator of m\n",
    "numeratorOfM"
   ]
  },
  {
   "cell_type": "code",
   "execution_count": 13,
   "id": "b26470f6-b695-4072-b2e7-ae93489d523a",
   "metadata": {},
   "outputs": [
    {
     "data": {
      "text/plain": [
       "17.714285714285715"
      ]
     },
     "execution_count": 13,
     "metadata": {},
     "output_type": "execute_result"
    }
   ],
   "source": [
    "#Now we have to calculate denominator of M\n",
    "denominatorOfM=sum(dev_x**2)\n",
    "denominatorOfM"
   ]
  },
  {
   "cell_type": "code",
   "execution_count": 14,
   "id": "4ef41a93-2dd1-4bc6-ac61-d0817d7116b2",
   "metadata": {},
   "outputs": [
    {
     "data": {
      "text/plain": [
       "2.620967741935484"
      ]
     },
     "execution_count": 14,
     "metadata": {},
     "output_type": "execute_result"
    }
   ],
   "source": [
    "m=numeratorOfM/denominatorOfM\n",
    "m"
   ]
  },
  {
   "cell_type": "markdown",
   "id": "0c1ecb59-8308-4e75-9332-e4409f435b03",
   "metadata": {},
   "source": [
    "## Here we got coef, ie. m and now we need intercept c, we know, c=y.mean()-m*x.mean()"
   ]
  },
  {
   "cell_type": "code",
   "execution_count": 15,
   "id": "495e0b75-40d0-4347-b139-518431ae32f8",
   "metadata": {},
   "outputs": [
    {
     "data": {
      "text/plain": [
       "35.16129032258065"
      ]
     },
     "execution_count": 15,
     "metadata": {},
     "output_type": "execute_result"
    }
   ],
   "source": [
    "c=y.mean()-m*x.mean()\n",
    "c"
   ]
  },
  {
   "cell_type": "markdown",
   "id": "131343c1-a20b-45de-a668-f8c6b15dbbdb",
   "metadata": {},
   "source": [
    "## Now we have all values to calculate y=mx+c; let's see.."
   ]
  },
  {
   "cell_type": "code",
   "execution_count": 16,
   "id": "7ac50a0b-b128-48c3-a7d7-deb85791d7f5",
   "metadata": {},
   "outputs": [
    {
     "data": {
      "text/plain": [
       "50.88709677419355"
      ]
     },
     "execution_count": 16,
     "metadata": {},
     "output_type": "execute_result"
    }
   ],
   "source": [
    "#let x=6\n",
    "x=6\n",
    "y=m*x+c\n",
    "y"
   ]
  },
  {
   "cell_type": "markdown",
   "id": "128f9e63-2ce2-4622-8e5d-1d3be4014936",
   "metadata": {},
   "source": [
    "## Manually we calculated the value of 6\n",
    "## Now let's fit LinearRegression Model"
   ]
  },
  {
   "cell_type": "code",
   "execution_count": 17,
   "id": "83486a11-7240-4ce9-b184-10bf66066bb0",
   "metadata": {},
   "outputs": [],
   "source": [
    "from sklearn.linear_model import LinearRegression"
   ]
  },
  {
   "cell_type": "code",
   "execution_count": 18,
   "id": "67185d2f-e7a5-4f0a-bf70-54c66664bfed",
   "metadata": {},
   "outputs": [],
   "source": [
    "lReg=LinearRegression()"
   ]
  },
  {
   "cell_type": "code",
   "execution_count": 19,
   "id": "0ed0acef-440c-4b77-b842-7fe79076af66",
   "metadata": {},
   "outputs": [
    {
     "data": {
      "text/html": [
       "<style>#sk-container-id-1 {\n",
       "  /* Definition of color scheme common for light and dark mode */\n",
       "  --sklearn-color-text: black;\n",
       "  --sklearn-color-line: gray;\n",
       "  /* Definition of color scheme for unfitted estimators */\n",
       "  --sklearn-color-unfitted-level-0: #fff5e6;\n",
       "  --sklearn-color-unfitted-level-1: #f6e4d2;\n",
       "  --sklearn-color-unfitted-level-2: #ffe0b3;\n",
       "  --sklearn-color-unfitted-level-3: chocolate;\n",
       "  /* Definition of color scheme for fitted estimators */\n",
       "  --sklearn-color-fitted-level-0: #f0f8ff;\n",
       "  --sklearn-color-fitted-level-1: #d4ebff;\n",
       "  --sklearn-color-fitted-level-2: #b3dbfd;\n",
       "  --sklearn-color-fitted-level-3: cornflowerblue;\n",
       "\n",
       "  /* Specific color for light theme */\n",
       "  --sklearn-color-text-on-default-background: var(--sg-text-color, var(--theme-code-foreground, var(--jp-content-font-color1, black)));\n",
       "  --sklearn-color-background: var(--sg-background-color, var(--theme-background, var(--jp-layout-color0, white)));\n",
       "  --sklearn-color-border-box: var(--sg-text-color, var(--theme-code-foreground, var(--jp-content-font-color1, black)));\n",
       "  --sklearn-color-icon: #696969;\n",
       "\n",
       "  @media (prefers-color-scheme: dark) {\n",
       "    /* Redefinition of color scheme for dark theme */\n",
       "    --sklearn-color-text-on-default-background: var(--sg-text-color, var(--theme-code-foreground, var(--jp-content-font-color1, white)));\n",
       "    --sklearn-color-background: var(--sg-background-color, var(--theme-background, var(--jp-layout-color0, #111)));\n",
       "    --sklearn-color-border-box: var(--sg-text-color, var(--theme-code-foreground, var(--jp-content-font-color1, white)));\n",
       "    --sklearn-color-icon: #878787;\n",
       "  }\n",
       "}\n",
       "\n",
       "#sk-container-id-1 {\n",
       "  color: var(--sklearn-color-text);\n",
       "}\n",
       "\n",
       "#sk-container-id-1 pre {\n",
       "  padding: 0;\n",
       "}\n",
       "\n",
       "#sk-container-id-1 input.sk-hidden--visually {\n",
       "  border: 0;\n",
       "  clip: rect(1px 1px 1px 1px);\n",
       "  clip: rect(1px, 1px, 1px, 1px);\n",
       "  height: 1px;\n",
       "  margin: -1px;\n",
       "  overflow: hidden;\n",
       "  padding: 0;\n",
       "  position: absolute;\n",
       "  width: 1px;\n",
       "}\n",
       "\n",
       "#sk-container-id-1 div.sk-dashed-wrapped {\n",
       "  border: 1px dashed var(--sklearn-color-line);\n",
       "  margin: 0 0.4em 0.5em 0.4em;\n",
       "  box-sizing: border-box;\n",
       "  padding-bottom: 0.4em;\n",
       "  background-color: var(--sklearn-color-background);\n",
       "}\n",
       "\n",
       "#sk-container-id-1 div.sk-container {\n",
       "  /* jupyter's `normalize.less` sets `[hidden] { display: none; }`\n",
       "     but bootstrap.min.css set `[hidden] { display: none !important; }`\n",
       "     so we also need the `!important` here to be able to override the\n",
       "     default hidden behavior on the sphinx rendered scikit-learn.org.\n",
       "     See: https://github.com/scikit-learn/scikit-learn/issues/21755 */\n",
       "  display: inline-block !important;\n",
       "  position: relative;\n",
       "}\n",
       "\n",
       "#sk-container-id-1 div.sk-text-repr-fallback {\n",
       "  display: none;\n",
       "}\n",
       "\n",
       "div.sk-parallel-item,\n",
       "div.sk-serial,\n",
       "div.sk-item {\n",
       "  /* draw centered vertical line to link estimators */\n",
       "  background-image: linear-gradient(var(--sklearn-color-text-on-default-background), var(--sklearn-color-text-on-default-background));\n",
       "  background-size: 2px 100%;\n",
       "  background-repeat: no-repeat;\n",
       "  background-position: center center;\n",
       "}\n",
       "\n",
       "/* Parallel-specific style estimator block */\n",
       "\n",
       "#sk-container-id-1 div.sk-parallel-item::after {\n",
       "  content: \"\";\n",
       "  width: 100%;\n",
       "  border-bottom: 2px solid var(--sklearn-color-text-on-default-background);\n",
       "  flex-grow: 1;\n",
       "}\n",
       "\n",
       "#sk-container-id-1 div.sk-parallel {\n",
       "  display: flex;\n",
       "  align-items: stretch;\n",
       "  justify-content: center;\n",
       "  background-color: var(--sklearn-color-background);\n",
       "  position: relative;\n",
       "}\n",
       "\n",
       "#sk-container-id-1 div.sk-parallel-item {\n",
       "  display: flex;\n",
       "  flex-direction: column;\n",
       "}\n",
       "\n",
       "#sk-container-id-1 div.sk-parallel-item:first-child::after {\n",
       "  align-self: flex-end;\n",
       "  width: 50%;\n",
       "}\n",
       "\n",
       "#sk-container-id-1 div.sk-parallel-item:last-child::after {\n",
       "  align-self: flex-start;\n",
       "  width: 50%;\n",
       "}\n",
       "\n",
       "#sk-container-id-1 div.sk-parallel-item:only-child::after {\n",
       "  width: 0;\n",
       "}\n",
       "\n",
       "/* Serial-specific style estimator block */\n",
       "\n",
       "#sk-container-id-1 div.sk-serial {\n",
       "  display: flex;\n",
       "  flex-direction: column;\n",
       "  align-items: center;\n",
       "  background-color: var(--sklearn-color-background);\n",
       "  padding-right: 1em;\n",
       "  padding-left: 1em;\n",
       "}\n",
       "\n",
       "\n",
       "/* Toggleable style: style used for estimator/Pipeline/ColumnTransformer box that is\n",
       "clickable and can be expanded/collapsed.\n",
       "- Pipeline and ColumnTransformer use this feature and define the default style\n",
       "- Estimators will overwrite some part of the style using the `sk-estimator` class\n",
       "*/\n",
       "\n",
       "/* Pipeline and ColumnTransformer style (default) */\n",
       "\n",
       "#sk-container-id-1 div.sk-toggleable {\n",
       "  /* Default theme specific background. It is overwritten whether we have a\n",
       "  specific estimator or a Pipeline/ColumnTransformer */\n",
       "  background-color: var(--sklearn-color-background);\n",
       "}\n",
       "\n",
       "/* Toggleable label */\n",
       "#sk-container-id-1 label.sk-toggleable__label {\n",
       "  cursor: pointer;\n",
       "  display: block;\n",
       "  width: 100%;\n",
       "  margin-bottom: 0;\n",
       "  padding: 0.5em;\n",
       "  box-sizing: border-box;\n",
       "  text-align: center;\n",
       "}\n",
       "\n",
       "#sk-container-id-1 label.sk-toggleable__label-arrow:before {\n",
       "  /* Arrow on the left of the label */\n",
       "  content: \"▸\";\n",
       "  float: left;\n",
       "  margin-right: 0.25em;\n",
       "  color: var(--sklearn-color-icon);\n",
       "}\n",
       "\n",
       "#sk-container-id-1 label.sk-toggleable__label-arrow:hover:before {\n",
       "  color: var(--sklearn-color-text);\n",
       "}\n",
       "\n",
       "/* Toggleable content - dropdown */\n",
       "\n",
       "#sk-container-id-1 div.sk-toggleable__content {\n",
       "  max-height: 0;\n",
       "  max-width: 0;\n",
       "  overflow: hidden;\n",
       "  text-align: left;\n",
       "  /* unfitted */\n",
       "  background-color: var(--sklearn-color-unfitted-level-0);\n",
       "}\n",
       "\n",
       "#sk-container-id-1 div.sk-toggleable__content.fitted {\n",
       "  /* fitted */\n",
       "  background-color: var(--sklearn-color-fitted-level-0);\n",
       "}\n",
       "\n",
       "#sk-container-id-1 div.sk-toggleable__content pre {\n",
       "  margin: 0.2em;\n",
       "  border-radius: 0.25em;\n",
       "  color: var(--sklearn-color-text);\n",
       "  /* unfitted */\n",
       "  background-color: var(--sklearn-color-unfitted-level-0);\n",
       "}\n",
       "\n",
       "#sk-container-id-1 div.sk-toggleable__content.fitted pre {\n",
       "  /* unfitted */\n",
       "  background-color: var(--sklearn-color-fitted-level-0);\n",
       "}\n",
       "\n",
       "#sk-container-id-1 input.sk-toggleable__control:checked~div.sk-toggleable__content {\n",
       "  /* Expand drop-down */\n",
       "  max-height: 200px;\n",
       "  max-width: 100%;\n",
       "  overflow: auto;\n",
       "}\n",
       "\n",
       "#sk-container-id-1 input.sk-toggleable__control:checked~label.sk-toggleable__label-arrow:before {\n",
       "  content: \"▾\";\n",
       "}\n",
       "\n",
       "/* Pipeline/ColumnTransformer-specific style */\n",
       "\n",
       "#sk-container-id-1 div.sk-label input.sk-toggleable__control:checked~label.sk-toggleable__label {\n",
       "  color: var(--sklearn-color-text);\n",
       "  background-color: var(--sklearn-color-unfitted-level-2);\n",
       "}\n",
       "\n",
       "#sk-container-id-1 div.sk-label.fitted input.sk-toggleable__control:checked~label.sk-toggleable__label {\n",
       "  background-color: var(--sklearn-color-fitted-level-2);\n",
       "}\n",
       "\n",
       "/* Estimator-specific style */\n",
       "\n",
       "/* Colorize estimator box */\n",
       "#sk-container-id-1 div.sk-estimator input.sk-toggleable__control:checked~label.sk-toggleable__label {\n",
       "  /* unfitted */\n",
       "  background-color: var(--sklearn-color-unfitted-level-2);\n",
       "}\n",
       "\n",
       "#sk-container-id-1 div.sk-estimator.fitted input.sk-toggleable__control:checked~label.sk-toggleable__label {\n",
       "  /* fitted */\n",
       "  background-color: var(--sklearn-color-fitted-level-2);\n",
       "}\n",
       "\n",
       "#sk-container-id-1 div.sk-label label.sk-toggleable__label,\n",
       "#sk-container-id-1 div.sk-label label {\n",
       "  /* The background is the default theme color */\n",
       "  color: var(--sklearn-color-text-on-default-background);\n",
       "}\n",
       "\n",
       "/* On hover, darken the color of the background */\n",
       "#sk-container-id-1 div.sk-label:hover label.sk-toggleable__label {\n",
       "  color: var(--sklearn-color-text);\n",
       "  background-color: var(--sklearn-color-unfitted-level-2);\n",
       "}\n",
       "\n",
       "/* Label box, darken color on hover, fitted */\n",
       "#sk-container-id-1 div.sk-label.fitted:hover label.sk-toggleable__label.fitted {\n",
       "  color: var(--sklearn-color-text);\n",
       "  background-color: var(--sklearn-color-fitted-level-2);\n",
       "}\n",
       "\n",
       "/* Estimator label */\n",
       "\n",
       "#sk-container-id-1 div.sk-label label {\n",
       "  font-family: monospace;\n",
       "  font-weight: bold;\n",
       "  display: inline-block;\n",
       "  line-height: 1.2em;\n",
       "}\n",
       "\n",
       "#sk-container-id-1 div.sk-label-container {\n",
       "  text-align: center;\n",
       "}\n",
       "\n",
       "/* Estimator-specific */\n",
       "#sk-container-id-1 div.sk-estimator {\n",
       "  font-family: monospace;\n",
       "  border: 1px dotted var(--sklearn-color-border-box);\n",
       "  border-radius: 0.25em;\n",
       "  box-sizing: border-box;\n",
       "  margin-bottom: 0.5em;\n",
       "  /* unfitted */\n",
       "  background-color: var(--sklearn-color-unfitted-level-0);\n",
       "}\n",
       "\n",
       "#sk-container-id-1 div.sk-estimator.fitted {\n",
       "  /* fitted */\n",
       "  background-color: var(--sklearn-color-fitted-level-0);\n",
       "}\n",
       "\n",
       "/* on hover */\n",
       "#sk-container-id-1 div.sk-estimator:hover {\n",
       "  /* unfitted */\n",
       "  background-color: var(--sklearn-color-unfitted-level-2);\n",
       "}\n",
       "\n",
       "#sk-container-id-1 div.sk-estimator.fitted:hover {\n",
       "  /* fitted */\n",
       "  background-color: var(--sklearn-color-fitted-level-2);\n",
       "}\n",
       "\n",
       "/* Specification for estimator info (e.g. \"i\" and \"?\") */\n",
       "\n",
       "/* Common style for \"i\" and \"?\" */\n",
       "\n",
       ".sk-estimator-doc-link,\n",
       "a:link.sk-estimator-doc-link,\n",
       "a:visited.sk-estimator-doc-link {\n",
       "  float: right;\n",
       "  font-size: smaller;\n",
       "  line-height: 1em;\n",
       "  font-family: monospace;\n",
       "  background-color: var(--sklearn-color-background);\n",
       "  border-radius: 1em;\n",
       "  height: 1em;\n",
       "  width: 1em;\n",
       "  text-decoration: none !important;\n",
       "  margin-left: 1ex;\n",
       "  /* unfitted */\n",
       "  border: var(--sklearn-color-unfitted-level-1) 1pt solid;\n",
       "  color: var(--sklearn-color-unfitted-level-1);\n",
       "}\n",
       "\n",
       ".sk-estimator-doc-link.fitted,\n",
       "a:link.sk-estimator-doc-link.fitted,\n",
       "a:visited.sk-estimator-doc-link.fitted {\n",
       "  /* fitted */\n",
       "  border: var(--sklearn-color-fitted-level-1) 1pt solid;\n",
       "  color: var(--sklearn-color-fitted-level-1);\n",
       "}\n",
       "\n",
       "/* On hover */\n",
       "div.sk-estimator:hover .sk-estimator-doc-link:hover,\n",
       ".sk-estimator-doc-link:hover,\n",
       "div.sk-label-container:hover .sk-estimator-doc-link:hover,\n",
       ".sk-estimator-doc-link:hover {\n",
       "  /* unfitted */\n",
       "  background-color: var(--sklearn-color-unfitted-level-3);\n",
       "  color: var(--sklearn-color-background);\n",
       "  text-decoration: none;\n",
       "}\n",
       "\n",
       "div.sk-estimator.fitted:hover .sk-estimator-doc-link.fitted:hover,\n",
       ".sk-estimator-doc-link.fitted:hover,\n",
       "div.sk-label-container:hover .sk-estimator-doc-link.fitted:hover,\n",
       ".sk-estimator-doc-link.fitted:hover {\n",
       "  /* fitted */\n",
       "  background-color: var(--sklearn-color-fitted-level-3);\n",
       "  color: var(--sklearn-color-background);\n",
       "  text-decoration: none;\n",
       "}\n",
       "\n",
       "/* Span, style for the box shown on hovering the info icon */\n",
       ".sk-estimator-doc-link span {\n",
       "  display: none;\n",
       "  z-index: 9999;\n",
       "  position: relative;\n",
       "  font-weight: normal;\n",
       "  right: .2ex;\n",
       "  padding: .5ex;\n",
       "  margin: .5ex;\n",
       "  width: min-content;\n",
       "  min-width: 20ex;\n",
       "  max-width: 50ex;\n",
       "  color: var(--sklearn-color-text);\n",
       "  box-shadow: 2pt 2pt 4pt #999;\n",
       "  /* unfitted */\n",
       "  background: var(--sklearn-color-unfitted-level-0);\n",
       "  border: .5pt solid var(--sklearn-color-unfitted-level-3);\n",
       "}\n",
       "\n",
       ".sk-estimator-doc-link.fitted span {\n",
       "  /* fitted */\n",
       "  background: var(--sklearn-color-fitted-level-0);\n",
       "  border: var(--sklearn-color-fitted-level-3);\n",
       "}\n",
       "\n",
       ".sk-estimator-doc-link:hover span {\n",
       "  display: block;\n",
       "}\n",
       "\n",
       "/* \"?\"-specific style due to the `<a>` HTML tag */\n",
       "\n",
       "#sk-container-id-1 a.estimator_doc_link {\n",
       "  float: right;\n",
       "  font-size: 1rem;\n",
       "  line-height: 1em;\n",
       "  font-family: monospace;\n",
       "  background-color: var(--sklearn-color-background);\n",
       "  border-radius: 1rem;\n",
       "  height: 1rem;\n",
       "  width: 1rem;\n",
       "  text-decoration: none;\n",
       "  /* unfitted */\n",
       "  color: var(--sklearn-color-unfitted-level-1);\n",
       "  border: var(--sklearn-color-unfitted-level-1) 1pt solid;\n",
       "}\n",
       "\n",
       "#sk-container-id-1 a.estimator_doc_link.fitted {\n",
       "  /* fitted */\n",
       "  border: var(--sklearn-color-fitted-level-1) 1pt solid;\n",
       "  color: var(--sklearn-color-fitted-level-1);\n",
       "}\n",
       "\n",
       "/* On hover */\n",
       "#sk-container-id-1 a.estimator_doc_link:hover {\n",
       "  /* unfitted */\n",
       "  background-color: var(--sklearn-color-unfitted-level-3);\n",
       "  color: var(--sklearn-color-background);\n",
       "  text-decoration: none;\n",
       "}\n",
       "\n",
       "#sk-container-id-1 a.estimator_doc_link.fitted:hover {\n",
       "  /* fitted */\n",
       "  background-color: var(--sklearn-color-fitted-level-3);\n",
       "}\n",
       "</style><div id=\"sk-container-id-1\" class=\"sk-top-container\"><div class=\"sk-text-repr-fallback\"><pre>LinearRegression()</pre><b>In a Jupyter environment, please rerun this cell to show the HTML representation or trust the notebook. <br />On GitHub, the HTML representation is unable to render, please try loading this page with nbviewer.org.</b></div><div class=\"sk-container\" hidden><div class=\"sk-item\"><div class=\"sk-estimator fitted sk-toggleable\"><input class=\"sk-toggleable__control sk-hidden--visually\" id=\"sk-estimator-id-1\" type=\"checkbox\" checked><label for=\"sk-estimator-id-1\" class=\"sk-toggleable__label fitted sk-toggleable__label-arrow fitted\">&nbsp;&nbsp;LinearRegression<a class=\"sk-estimator-doc-link fitted\" rel=\"noreferrer\" target=\"_blank\" href=\"https://scikit-learn.org/1.4/modules/generated/sklearn.linear_model.LinearRegression.html\">?<span>Documentation for LinearRegression</span></a><span class=\"sk-estimator-doc-link fitted\">i<span>Fitted</span></span></label><div class=\"sk-toggleable__content fitted\"><pre>LinearRegression()</pre></div> </div></div></div></div>"
      ],
      "text/plain": [
       "LinearRegression()"
      ]
     },
     "execution_count": 19,
     "metadata": {},
     "output_type": "execute_result"
    }
   ],
   "source": [
    "lReg.fit(df[['Weight']],df[['Price']])"
   ]
  },
  {
   "cell_type": "code",
   "execution_count": 20,
   "id": "e784d73b-2cda-4752-961c-18170a8ccebb",
   "metadata": {},
   "outputs": [
    {
     "data": {
      "text/plain": [
       "array([[2.62096774]])"
      ]
     },
     "execution_count": 20,
     "metadata": {},
     "output_type": "execute_result"
    }
   ],
   "source": [
    "coefFromModel=lReg.coef_\n",
    "coefFromModel"
   ]
  },
  {
   "cell_type": "code",
   "execution_count": 21,
   "id": "3ea5bae6-64d9-4fd1-9caa-f60c020c1371",
   "metadata": {},
   "outputs": [
    {
     "data": {
      "text/plain": [
       "array([35.16129032])"
      ]
     },
     "execution_count": 21,
     "metadata": {},
     "output_type": "execute_result"
    }
   ],
   "source": [
    "interceptFromModel=lReg.intercept_\n",
    "interceptFromModel"
   ]
  },
  {
   "cell_type": "code",
   "execution_count": 22,
   "id": "88c5115f-73e5-4763-bdf0-c964d7937186",
   "metadata": {},
   "outputs": [
    {
     "name": "stdout",
     "output_type": "stream",
     "text": [
      "Yes, Manual and Model both Coefficients are matched.\n"
     ]
    }
   ],
   "source": [
    "if coefFromModel==m:\n",
    "    print('Yes, Manual and Model both Coefficients are matched.')\n",
    "else:\n",
    "    print('No, Manual and Model both Coefficients are not matched.')"
   ]
  },
  {
   "cell_type": "code",
   "execution_count": 23,
   "id": "b1020576-6390-4a2f-b786-f7f6db371fd4",
   "metadata": {},
   "outputs": [
    {
     "name": "stdout",
     "output_type": "stream",
     "text": [
      "Yes, Manual and Model both Intercept are matched.\n"
     ]
    }
   ],
   "source": [
    "if interceptFromModel==c:\n",
    "    print('Yes, Manual and Model both Intercept are matched.')\n",
    "else:\n",
    "    print('No, Manual and Model both Intercept are not matched.')"
   ]
  },
  {
   "cell_type": "code",
   "execution_count": 24,
   "id": "8068a5f7-2b97-4566-896d-ff91d516bdf3",
   "metadata": {},
   "outputs": [
    {
     "name": "stderr",
     "output_type": "stream",
     "text": [
      "C:\\Users\\coder\\AppData\\Local\\Programs\\Python\\Python312\\Lib\\site-packages\\sklearn\\base.py:493: UserWarning: X does not have valid feature names, but LinearRegression was fitted with feature names\n",
      "  warnings.warn(\n"
     ]
    },
    {
     "data": {
      "text/plain": [
       "array([[50.88709677]])"
      ]
     },
     "execution_count": 24,
     "metadata": {},
     "output_type": "execute_result"
    }
   ],
   "source": [
    "predFor_Six=lReg.predict([[6]])\n",
    "predFor_Six"
   ]
  },
  {
   "cell_type": "code",
   "execution_count": 25,
   "id": "6bb7321e-d7d6-4991-808e-e7bee8b63243",
   "metadata": {},
   "outputs": [
    {
     "name": "stdout",
     "output_type": "stream",
     "text": [
      "Yes, Manual and Model both Predictions are matched.\n"
     ]
    }
   ],
   "source": [
    "if predFor_Six==y:\n",
    "    print('Yes, Manual and Model both Predictions are matched.')\n",
    "else:\n",
    "    print('No, Manual and Model both Predictions are not matched.')"
   ]
  },
  {
   "cell_type": "markdown",
   "id": "7e7f1d4d-1573-45de-abb7-34326db6282f",
   "metadata": {},
   "source": [
    "## Now need to calculate Predicted_Price of Weight to calculate L1 and L2"
   ]
  },
  {
   "cell_type": "code",
   "execution_count": 26,
   "id": "75505b1f-2851-4c96-b971-8d113c376811",
   "metadata": {},
   "outputs": [
    {
     "data": {
      "text/plain": [
       "array([[40.40322581],\n",
       "       [45.64516129],\n",
       "       [48.26612903],\n",
       "       [43.02419355],\n",
       "       [50.88709677],\n",
       "       [48.26612903],\n",
       "       [53.50806452]])"
      ]
     },
     "execution_count": 26,
     "metadata": {},
     "output_type": "execute_result"
    }
   ],
   "source": [
    "pred_Price=lReg.predict(df[['Weight']])\n",
    "pred_Price"
   ]
  },
  {
   "cell_type": "code",
   "execution_count": 27,
   "id": "cb856bc3-6102-4068-aa1d-cc09d2f454fa",
   "metadata": {},
   "outputs": [
    {
     "data": {
      "text/html": [
       "<div>\n",
       "<style scoped>\n",
       "    .dataframe tbody tr th:only-of-type {\n",
       "        vertical-align: middle;\n",
       "    }\n",
       "\n",
       "    .dataframe tbody tr th {\n",
       "        vertical-align: top;\n",
       "    }\n",
       "\n",
       "    .dataframe thead th {\n",
       "        text-align: right;\n",
       "    }\n",
       "</style>\n",
       "<table border=\"1\" class=\"dataframe\">\n",
       "  <thead>\n",
       "    <tr style=\"text-align: right;\">\n",
       "      <th></th>\n",
       "      <th>Weight</th>\n",
       "      <th>Price</th>\n",
       "      <th>Pred_Price</th>\n",
       "    </tr>\n",
       "  </thead>\n",
       "  <tbody>\n",
       "    <tr>\n",
       "      <th>0</th>\n",
       "      <td>2</td>\n",
       "      <td>35</td>\n",
       "      <td>40.403226</td>\n",
       "    </tr>\n",
       "    <tr>\n",
       "      <th>1</th>\n",
       "      <td>4</td>\n",
       "      <td>60</td>\n",
       "      <td>45.645161</td>\n",
       "    </tr>\n",
       "    <tr>\n",
       "      <th>2</th>\n",
       "      <td>5</td>\n",
       "      <td>20</td>\n",
       "      <td>48.266129</td>\n",
       "    </tr>\n",
       "    <tr>\n",
       "      <th>3</th>\n",
       "      <td>3</td>\n",
       "      <td>50</td>\n",
       "      <td>43.024194</td>\n",
       "    </tr>\n",
       "    <tr>\n",
       "      <th>4</th>\n",
       "      <td>6</td>\n",
       "      <td>50</td>\n",
       "      <td>50.887097</td>\n",
       "    </tr>\n",
       "    <tr>\n",
       "      <th>5</th>\n",
       "      <td>5</td>\n",
       "      <td>55</td>\n",
       "      <td>48.266129</td>\n",
       "    </tr>\n",
       "    <tr>\n",
       "      <th>6</th>\n",
       "      <td>7</td>\n",
       "      <td>60</td>\n",
       "      <td>53.508065</td>\n",
       "    </tr>\n",
       "  </tbody>\n",
       "</table>\n",
       "</div>"
      ],
      "text/plain": [
       "   Weight  Price  Pred_Price\n",
       "0       2     35   40.403226\n",
       "1       4     60   45.645161\n",
       "2       5     20   48.266129\n",
       "3       3     50   43.024194\n",
       "4       6     50   50.887097\n",
       "5       5     55   48.266129\n",
       "6       7     60   53.508065"
      ]
     },
     "execution_count": 27,
     "metadata": {},
     "output_type": "execute_result"
    }
   ],
   "source": [
    "df['Pred_Price']=pred_Price\n",
    "df"
   ]
  },
  {
   "cell_type": "code",
   "execution_count": 28,
   "id": "f22f3d10-769f-457f-9dbf-9a29031e127e",
   "metadata": {},
   "outputs": [
    {
     "data": {
      "text/plain": [
       "0    -5.403226\n",
       "1    14.354839\n",
       "2   -28.266129\n",
       "3     6.975806\n",
       "4    -0.887097\n",
       "5     6.733871\n",
       "6     6.491935\n",
       "dtype: float64"
      ]
     },
     "execution_count": 28,
     "metadata": {},
     "output_type": "execute_result"
    }
   ],
   "source": [
    "residuals=df['Price']-df['Pred_Price']\n",
    "residuals"
   ]
  },
  {
   "cell_type": "code",
   "execution_count": 29,
   "id": "6bac757b-271c-4134-ac1f-c59f3b549abe",
   "metadata": {},
   "outputs": [
    {
     "data": {
      "text/html": [
       "<div>\n",
       "<style scoped>\n",
       "    .dataframe tbody tr th:only-of-type {\n",
       "        vertical-align: middle;\n",
       "    }\n",
       "\n",
       "    .dataframe tbody tr th {\n",
       "        vertical-align: top;\n",
       "    }\n",
       "\n",
       "    .dataframe thead th {\n",
       "        text-align: right;\n",
       "    }\n",
       "</style>\n",
       "<table border=\"1\" class=\"dataframe\">\n",
       "  <thead>\n",
       "    <tr style=\"text-align: right;\">\n",
       "      <th></th>\n",
       "      <th>Weight</th>\n",
       "      <th>Price</th>\n",
       "      <th>Pred_Price</th>\n",
       "      <th>Residual</th>\n",
       "    </tr>\n",
       "  </thead>\n",
       "  <tbody>\n",
       "    <tr>\n",
       "      <th>0</th>\n",
       "      <td>2</td>\n",
       "      <td>35</td>\n",
       "      <td>40.403226</td>\n",
       "      <td>-5.403226</td>\n",
       "    </tr>\n",
       "    <tr>\n",
       "      <th>1</th>\n",
       "      <td>4</td>\n",
       "      <td>60</td>\n",
       "      <td>45.645161</td>\n",
       "      <td>14.354839</td>\n",
       "    </tr>\n",
       "    <tr>\n",
       "      <th>2</th>\n",
       "      <td>5</td>\n",
       "      <td>20</td>\n",
       "      <td>48.266129</td>\n",
       "      <td>-28.266129</td>\n",
       "    </tr>\n",
       "    <tr>\n",
       "      <th>3</th>\n",
       "      <td>3</td>\n",
       "      <td>50</td>\n",
       "      <td>43.024194</td>\n",
       "      <td>6.975806</td>\n",
       "    </tr>\n",
       "    <tr>\n",
       "      <th>4</th>\n",
       "      <td>6</td>\n",
       "      <td>50</td>\n",
       "      <td>50.887097</td>\n",
       "      <td>-0.887097</td>\n",
       "    </tr>\n",
       "    <tr>\n",
       "      <th>5</th>\n",
       "      <td>5</td>\n",
       "      <td>55</td>\n",
       "      <td>48.266129</td>\n",
       "      <td>6.733871</td>\n",
       "    </tr>\n",
       "    <tr>\n",
       "      <th>6</th>\n",
       "      <td>7</td>\n",
       "      <td>60</td>\n",
       "      <td>53.508065</td>\n",
       "      <td>6.491935</td>\n",
       "    </tr>\n",
       "  </tbody>\n",
       "</table>\n",
       "</div>"
      ],
      "text/plain": [
       "   Weight  Price  Pred_Price   Residual\n",
       "0       2     35   40.403226  -5.403226\n",
       "1       4     60   45.645161  14.354839\n",
       "2       5     20   48.266129 -28.266129\n",
       "3       3     50   43.024194   6.975806\n",
       "4       6     50   50.887097  -0.887097\n",
       "5       5     55   48.266129   6.733871\n",
       "6       7     60   53.508065   6.491935"
      ]
     },
     "execution_count": 29,
     "metadata": {},
     "output_type": "execute_result"
    }
   ],
   "source": [
    "df['Residual']=residuals\n",
    "df"
   ]
  },
  {
   "cell_type": "code",
   "execution_count": 30,
   "id": "6ce83d8c-087e-4a80-973d-60db44a7d8a5",
   "metadata": {},
   "outputs": [
    {
     "data": {
      "text/plain": [
       "7"
      ]
     },
     "execution_count": 30,
     "metadata": {},
     "output_type": "execute_result"
    }
   ],
   "source": [
    "n=len(df)\n",
    "n"
   ]
  },
  {
   "cell_type": "markdown",
   "id": "a70529bc-7ea5-4d11-af16-b29cbc795c35",
   "metadata": {},
   "source": [
    "## L1=MAE=1/N sum(abs(residuals))"
   ]
  },
  {
   "cell_type": "code",
   "execution_count": 31,
   "id": "a8a8e28e-0d48-4f00-a31a-7828da48e5ae",
   "metadata": {},
   "outputs": [
    {
     "data": {
      "text/plain": [
       "9.87327188940092"
      ]
     },
     "execution_count": 31,
     "metadata": {},
     "output_type": "execute_result"
    }
   ],
   "source": [
    "manual_mae=sum(abs(residuals))/n\n",
    "manual_mae"
   ]
  },
  {
   "cell_type": "markdown",
   "id": "5f0186dd-c996-4b66-a0fc-d4f866b1ef14",
   "metadata": {},
   "source": [
    "## L2=MSE=1/N sum(residuals)^2"
   ]
  },
  {
   "cell_type": "code",
   "execution_count": 32,
   "id": "40b720fe-7344-4a0c-b012-489b51c38a82",
   "metadata": {},
   "outputs": [
    {
     "data": {
      "text/plain": [
       "167.30990783410135"
      ]
     },
     "execution_count": 32,
     "metadata": {},
     "output_type": "execute_result"
    }
   ],
   "source": [
    "manual_mse=sum(residuals**2)/n\n",
    "manual_mse"
   ]
  },
  {
   "cell_type": "markdown",
   "id": "850cbefa-403e-4893-9ef7-7a620b3f39fc",
   "metadata": {},
   "source": [
    "## Calculate MSE and MAE from sklearn"
   ]
  },
  {
   "cell_type": "code",
   "execution_count": 33,
   "id": "9665e419-9d20-4a99-ab22-41d5c4b70ca1",
   "metadata": {},
   "outputs": [],
   "source": [
    "from sklearn.metrics import mean_squared_error, mean_absolute_error"
   ]
  },
  {
   "cell_type": "code",
   "execution_count": 34,
   "id": "f0791fd5-948f-423a-966b-cf2f1135680b",
   "metadata": {},
   "outputs": [
    {
     "data": {
      "text/plain": [
       "167.30990783410135"
      ]
     },
     "execution_count": 34,
     "metadata": {},
     "output_type": "execute_result"
    }
   ],
   "source": [
    "mse=mean_squared_error(df['Price'], pred_Price)\n",
    "mse"
   ]
  },
  {
   "cell_type": "code",
   "execution_count": 35,
   "id": "0f640324-ad91-4cc7-947c-acfc1ec282ea",
   "metadata": {},
   "outputs": [
    {
     "data": {
      "text/plain": [
       "9.87327188940092"
      ]
     },
     "execution_count": 35,
     "metadata": {},
     "output_type": "execute_result"
    }
   ],
   "source": [
    "mae=mean_absolute_error(df['Price'], pred_Price)\n",
    "mae"
   ]
  },
  {
   "cell_type": "code",
   "execution_count": 36,
   "id": "ef6eacea-0bd3-4c6c-8f9c-8eab7f156d47",
   "metadata": {},
   "outputs": [
    {
     "name": "stdout",
     "output_type": "stream",
     "text": [
      "Yes, Manual and Model both MAE are matched.\n"
     ]
    }
   ],
   "source": [
    "if manual_mae==mae:\n",
    "    print('Yes, Manual and Model both MAE are matched.')\n",
    "else:\n",
    "    print('No, Manual and Model both MAE are not matched.')"
   ]
  },
  {
   "cell_type": "code",
   "execution_count": 37,
   "id": "19748ca4-595b-4af6-80df-bd7f9ddc9fea",
   "metadata": {},
   "outputs": [
    {
     "name": "stderr",
     "output_type": "stream",
     "text": [
      "C:\\Users\\coder\\AppData\\Local\\Temp\\ipykernel_8152\\3783712333.py:1: DeprecationWarning: `np.math` is a deprecated alias for the standard library `math` module (Deprecated Numpy 1.25). Replace usages of `np.math` with `math`\n",
      "  rmse=np.math.sqrt(mse)\n"
     ]
    },
    {
     "data": {
      "text/plain": [
       "12.934833119685052"
      ]
     },
     "execution_count": 37,
     "metadata": {},
     "output_type": "execute_result"
    }
   ],
   "source": [
    "rmse=np.math.sqrt(mse)\n",
    "rmse"
   ]
  },
  {
   "cell_type": "code",
   "execution_count": 38,
   "id": "d4911b78-a55b-468b-9758-e4018cc7067c",
   "metadata": {},
   "outputs": [
    {
     "name": "stdout",
     "output_type": "stream",
     "text": [
      "Yes, Manual and Model both MSE are matched.\n"
     ]
    }
   ],
   "source": [
    "if manual_mse==mse:\n",
    "    print('Yes, Manual and Model both MSE are matched.')\n",
    "else:\n",
    "    print('No, Manual and Model both MSE are not matched.')"
   ]
  },
  {
   "cell_type": "code",
   "execution_count": 39,
   "id": "3157693d-1e51-4819-b86a-cffffa02faf0",
   "metadata": {},
   "outputs": [
    {
     "data": {
      "text/plain": [
       "0.09412315095348434"
      ]
     },
     "execution_count": 39,
     "metadata": {},
     "output_type": "execute_result"
    }
   ],
   "source": [
    "lReg.score(df[['Weight']], df[['Price']])"
   ]
  },
  {
   "cell_type": "markdown",
   "id": "f26d0885-fc32-4cf7-8b25-1c6008a7952f",
   "metadata": {},
   "source": [
    "## score is very poor"
   ]
  },
  {
   "cell_type": "code",
   "execution_count": 40,
   "id": "b2d2e71f-3a64-4558-a3b2-d8f76ffe52c6",
   "metadata": {},
   "outputs": [
    {
     "data": {
      "text/plain": [
       "Text(0.5, 1.0, 'Vegitables Weight-Price')"
      ]
     },
     "execution_count": 40,
     "metadata": {},
     "output_type": "execute_result"
    },
    {
     "data": {
      "image/png": "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",
      "text/plain": [
       "<Figure size 640x480 with 1 Axes>"
      ]
     },
     "metadata": {},
     "output_type": "display_data"
    }
   ],
   "source": [
    "plt.scatter(df[['Weight']],df[['Price']])\n",
    "plt.plot(df[['Weight']],df[['Pred_Price']], color='orange')\n",
    "plt.scatter(df[['Weight']],df[['Pred_Price']], marker='+', color='red')\n",
    "plt.scatter(df[['Weight']].mean(),df[['Pred_Price']].mean(), marker='*', color='black')\n",
    "plt.xlabel('Weight')\n",
    "plt.ylabel('Price')\n",
    "plt.title('Vegitables Weight-Price')"
   ]
  },
  {
   "cell_type": "code",
   "execution_count": null,
   "id": "5d143889-31a9-43b7-8ff8-552ed67fdc8c",
   "metadata": {},
   "outputs": [],
   "source": []
  }
 ],
 "metadata": {
  "kernelspec": {
   "display_name": "Python 3 (ipykernel)",
   "language": "python",
   "name": "python3"
  },
  "language_info": {
   "codemirror_mode": {
    "name": "ipython",
    "version": 3
   },
   "file_extension": ".py",
   "mimetype": "text/x-python",
   "name": "python",
   "nbconvert_exporter": "python",
   "pygments_lexer": "ipython3",
   "version": "3.12.2"
  }
 },
 "nbformat": 4,
 "nbformat_minor": 5
}
  {
   "cell_type": "markdown",
   "id": "2d5a956c-f845-47d9-abc3-0a035c341cfx",
   "metadata": {},
   "source": [
    "## Score is very poor due to imbalance dataset"
   ]
  },
